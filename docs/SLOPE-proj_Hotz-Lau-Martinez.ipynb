{
 "cells": [
  {
   "cell_type": "markdown",
   "metadata": {},
   "source": [
    "# SLOPE for Count Data\n",
    "\n",
    "*Autors: Zach Lau, Joey Hotz and Javier Martinez-Rodriguez*"
   ]
  },
  {
   "cell_type": "markdown",
   "metadata": {},
   "source": [
    "## Introduction\n",
    "\n",
    "This project aims to measure the performance of Sorted L-One Penalized Estimation (SLOPE) for variable selection in the context of high-dimensional count data modelled with Poisson regression. SLOPE extends the LASSO penalty by introducing a sequence of non-increasing regularization parameters, resulting in the penalty $\\sum_{i=1}^{p}\\lambda_{i}|\\hat{\\beta}_{(i)}|$, where coefficients $|\\hat{\\beta}|$ are sorted in descending order and $\\lambda_1 \\ge \\dots \\ge \\lambda_p \\ge 0$. While SLOPE, inspired by the Benjamini-Hochberg procedure, has shown theoretical False Discovery Rate (FDR) control in Gaussian linear models, its behaviour in non-Gaussian settings like Poisson regression remains less explored. Therefore, this project uses simulations to compare the variable selection accuracy (measured by FDR and Power) of SLOPE against standard and adaptive LASSO across scenarios varying in predictor dimensionality ($p/n$ ratio), inter-predictor correlation ($\\rho$), sparsity ($k$), and signal strength, using a target FDR ($q=0.1$) for SLOPE and cross-validation for LASSO variants.\n",
    "\n",
    "In order to discuss the details of the SLOPE penalization and the experiments to evaluate its performance using simulation data, this document is divided into X parts. First, it provides a general explanation about SLOPE applied to Gaussian linear models and the effect of choosing different procedures to assign its values, as discussed by Bogdan et al. (2015). In particular, it discusses the FDR provided by the Benjamini-Hochberg procedure. Second, the implementation of SLOPE to Generalized Linear Models (GLM) is addressed, particularly with count data. Third, the simulation settings, computing penalizations, and results are discussed. "
   ]
  },
  {
   "cell_type": "markdown",
   "metadata": {},
   "source": [
    "## Explanation of SLOPE\n",
    "\n",
    "Lorem ipsum dolor sit amet, consectetur adipiscing elit, sed do eiusmod tempor incididunt ut labore et dolore magna aliqua. Ut enim ad minim veniam, quis nostrud exercitation ullamco laboris nisi ut aliquip ex ea commodo consequat. Duis aute irure dolor in reprehenderit in voluptate velit esse cillum dolore eu fugiat nulla pariatur. Excepteur sint occaecat cupidatat non proident, sunt in culpa qui officia deserunt mollit anim id est laborum."
   ]
  },
  {
   "cell_type": "markdown",
   "metadata": {},
   "source": [
    "## Explanation of SLOPE for Count Data\n",
    "\n",
    "Lorem ipsum dolor sit amet, consectetur adipiscing elit, sed do eiusmod tempor incididunt ut labore et dolore magna aliqua. Ut enim ad minim veniam, quis nostrud exercitation ullamco laboris nisi ut aliquip ex ea commodo consequat. Duis aute irure dolor in reprehenderit in voluptate velit esse cillum dolore eu fugiat nulla pariatur. Excepteur sint occaecat cupidatat non proident, sunt in culpa qui officia deserunt mollit anim id est laborum."
   ]
  },
  {
   "cell_type": "markdown",
   "metadata": {},
   "source": [
    "## Experiments\n",
    "\n",
    "Lorem ipsum dolor sit amet, consectetur adipiscing elit, sed do eiusmod tempor incididunt ut labore et dolore magna aliqua. Ut enim ad minim veniam, quis nostrud exercitation ullamco laboris nisi ut aliquip ex ea commodo consequat. Duis aute irure dolor in reprehenderit in voluptate velit esse cillum dolore eu fugiat nulla pariatur. Excepteur sint occaecat cupidatat non proident, sunt in culpa qui officia deserunt mollit anim id est laborum."
   ]
  },
  {
   "cell_type": "markdown",
   "metadata": {},
   "source": [
    "### Compiting Penalizations\n",
    "\n",
    "Lorem ipsum dolor sit amet, consectetur adipiscing elit, sed do eiusmod tempor incididunt ut labore et dolore magna aliqua. Ut enim ad minim veniam, quis nostrud exercitation ullamco laboris nisi ut aliquip ex ea commodo consequat. Duis aute irure dolor in reprehenderit in voluptate velit esse cillum dolore eu fugiat nulla pariatur. Excepteur sint occaecat cupidatat non proident, sunt in culpa qui officia deserunt mollit anim id est laborum."
   ]
  },
  {
   "cell_type": "markdown",
   "metadata": {},
   "source": [
    "### Experimental Settings\n",
    "\n",
    "Lorem ipsum dolor sit amet, consectetur adipiscing elit, sed do eiusmod tempor incididunt ut labore et dolore magna aliqua. Ut enim ad minim veniam, quis nostrud exercitation ullamco laboris nisi ut aliquip ex ea commodo consequat. Duis aute irure dolor in reprehenderit in voluptate velit esse cillum dolore eu fugiat nulla pariatur. Excepteur sint occaecat cupidatat non proident, sunt in culpa qui officia deserunt mollit anim id est laborum."
   ]
  },
  {
   "cell_type": "code",
   "execution_count": 2,
   "metadata": {},
   "outputs": [],
   "source": [
    "# Setup ----\n",
    "## Packages to use ----\n",
    "if (!require(\"pacman\")) install.packages(\"pacman\")\n",
    "# if (!require(\"mytidyfunctions\")) remotes::install_github(\"JavierMtzRdz/mytidyfunctions\")\n",
    "\n",
    "pacman::p_load(tidyverse, janitor, \n",
    "               SLOPE, glmnet, MASS,\n",
    "              # mytidyfunctions,\n",
    "               patchwork, here)\n",
    "\n",
    "## Load fonts ----\n",
    "extrafont::loadfonts(quiet = TRUE)\n",
    "\n",
    "## Set theme ------\n",
    "# mytidyfunctions::set_mytheme(text = element_text(family = \"Times New Roman\"))\n"
   ]
  },
  {
   "cell_type": "code",
   "execution_count": null,
   "metadata": {},
   "outputs": [],
   "source": [
    "# Generative models\n",
    "## Simulation Parameters\n",
    "n <- 1000         \n",
    "p_values <- c(500, 1000, 2000) \n",
    "rho_values <- c(0, 0.5, 0.8)  \n",
    "k_values <- c(10, 20, 50, 100) # Non-zero betas\n",
    "signal_strengths <- list( \n",
    "  weak = list(beta_min = 0.1, beta_max = 0.5),\n",
    "  strong = list(beta_min = 0.5, beta_max = 1.5)\n",
    ")\n",
    "R <- 50 \n",
    "q_fdr <- 0.1       # Tq parameter for SLOPE\n",
    "adapt_lasso_gamma <- 1 # ALasso weights\n",
    "beta0 <- 0.5\n",
    "\n",
    "set.seed(538)\n",
    "\n",
    "## Generative model\n",
    "generate_data <- function(n, p, rho, k, signal_info, beta0) {\n",
    "\n",
    "  beta_true <- numeric(p)\n",
    "\n",
    "  if (k > 0) {\n",
    "    non_zero_indices <- sample(1:p, k)\n",
    "    magnitudes <- runif(k, min = signal_info$beta_min, max = signal_info$beta_max)\n",
    "    signs <- sample(c(-1, 1), k, replace = TRUE)\n",
    "    beta_true[non_zero_indices] <- magnitudes * signs\n",
    "  }\n",
    "  true_support <- which(beta_true != 0)\n",
    "\n",
    "  # Generate X\n",
    "  Sigma <- matrix(rho, nrow = p, ncol = p)\n",
    "  diag(Sigma) <- 1\n",
    "  X <- MASS::mvrnorm(n = n, mu = rep(0, p), Sigma = Sigma)\n",
    "  X <- scale(X)\n",
    "\n",
    "  # Count response \n",
    "  lambda <- exp(beta0 + X %*% beta_true)\n",
    "  # lambda <- pmin(lambda, some_large_value)\n",
    "  y <- rpois(n, lambda)\n",
    "\n",
    "  return(list(X = X, y = y, beta_true = beta_true, true_support = true_support, beta0 = beta0))\n",
    "}"
   ]
  },
  {
   "cell_type": "markdown",
   "metadata": {},
   "source": [
    "### Results\n",
    "\n",
    "Lorem ipsum dolor sit amet, consectetur adipiscing elit, sed do eiusmod tempor incididunt ut labore et dolore magna aliqua. Ut enim ad minim veniam, quis nostrud exercitation ullamco laboris nisi ut aliquip ex ea commodo consequat. Duis aute irure dolor in reprehenderit in voluptate velit esse cillum dolore eu fugiat nulla pariatur. Excepteur sint occaecat cupidatat non proident, sunt in culpa qui officia deserunt mollit anim id est laborum."
   ]
  },
  {
   "cell_type": "markdown",
   "metadata": {},
   "source": [
    "## References\n",
    "\n",
    "Bogdan, Małgorzata, Ewout van den Berg, Chiara Sabatti, Weijie Su, and Emmanuel J. Candès. 2015. “Slope—Adaptive Variable Selection Via Convex Optimization.” The Annals of Applied Statistics 9 (3): 1103–40.\n"
   ]
  }
 ],
 "metadata": {
  "language_info": {
   "name": "r"
  }
 },
 "nbformat": 4,
 "nbformat_minor": 2
}
