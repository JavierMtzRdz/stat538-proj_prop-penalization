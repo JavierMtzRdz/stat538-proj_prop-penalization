{
 "cells": [
  {
   "cell_type": "markdown",
   "metadata": {},
   "source": [
    "# SLOPE for Count Data\n",
    "\n",
    "*Autors: Zach Lau, Joey Hotz and Javier Martinez-Rodriguez*"
   ]
  },
  {
   "cell_type": "markdown",
   "metadata": {},
   "source": [
    "## Introduction\n",
    "\n",
    "Lorem ipsum dolor sit amet, consectetur adipiscing elit, sed do eiusmod tempor incididunt ut labore et dolore magna aliqua. Ut enim ad minim veniam, quis nostrud exercitation ullamco laboris nisi ut aliquip ex ea commodo consequat. Duis aute irure dolor in reprehenderit in voluptate velit esse cillum dolore eu fugiat nulla pariatur. Excepteur sint occaecat cupidatat non proident, sunt in culpa qui officia deserunt mollit anim id est laborum."
   ]
  },
  {
   "cell_type": "markdown",
   "metadata": {},
   "source": [
    "## Explanation of SLOPE\n",
    "\n",
    "Lorem ipsum dolor sit amet, consectetur adipiscing elit, sed do eiusmod tempor incididunt ut labore et dolore magna aliqua. Ut enim ad minim veniam, quis nostrud exercitation ullamco laboris nisi ut aliquip ex ea commodo consequat. Duis aute irure dolor in reprehenderit in voluptate velit esse cillum dolore eu fugiat nulla pariatur. Excepteur sint occaecat cupidatat non proident, sunt in culpa qui officia deserunt mollit anim id est laborum."
   ]
  },
  {
   "cell_type": "markdown",
   "metadata": {},
   "source": [
    "## Explanation of SLOPE for Count Data\n",
    "\n",
    "Lorem ipsum dolor sit amet, consectetur adipiscing elit, sed do eiusmod tempor incididunt ut labore et dolore magna aliqua. Ut enim ad minim veniam, quis nostrud exercitation ullamco laboris nisi ut aliquip ex ea commodo consequat. Duis aute irure dolor in reprehenderit in voluptate velit esse cillum dolore eu fugiat nulla pariatur. Excepteur sint occaecat cupidatat non proident, sunt in culpa qui officia deserunt mollit anim id est laborum."
   ]
  },
  {
   "cell_type": "markdown",
   "metadata": {},
   "source": [
    "## Experiments\n",
    "\n",
    "Lorem ipsum dolor sit amet, consectetur adipiscing elit, sed do eiusmod tempor incididunt ut labore et dolore magna aliqua. Ut enim ad minim veniam, quis nostrud exercitation ullamco laboris nisi ut aliquip ex ea commodo consequat. Duis aute irure dolor in reprehenderit in voluptate velit esse cillum dolore eu fugiat nulla pariatur. Excepteur sint occaecat cupidatat non proident, sunt in culpa qui officia deserunt mollit anim id est laborum."
   ]
  },
  {
   "cell_type": "code",
   "execution_count": 2,
   "metadata": {},
   "outputs": [],
   "source": [
    "# Setup ----\n",
    "## Packages to use ----\n",
    "if (!require(\"pacman\")) install.packages(\"pacman\")\n",
    "# if (!require(\"mytidyfunctions\")) remotes::install_github(\"JavierMtzRdz/mytidyfunctions\")\n",
    "\n",
    "pacman::p_load(tidyverse, janitor, \n",
    "               SLOPE, glmnet, MASS,\n",
    "              # mytidyfunctions,\n",
    "               patchwork, here)\n",
    "\n",
    "## Load fonts ----\n",
    "extrafont::loadfonts(quiet = TRUE)\n",
    "\n",
    "## Set theme ------\n",
    "# mytidyfunctions::set_mytheme(text = element_text(family = \"Times New Roman\"))\n"
   ]
  },
  {
   "cell_type": "code",
   "execution_count": null,
   "metadata": {},
   "outputs": [],
   "source": [
    "# Generative models\n",
    "## Simulation Parameters\n",
    "n <- 1000         \n",
    "p_values <- c(500, 1000, 2000) \n",
    "rho_values <- c(0, 0.5, 0.8)  \n",
    "k_values <- c(10, 20, 50, 100) # Non-zero betas\n",
    "signal_strengths <- list( \n",
    "  weak = list(beta_min = 0.1, beta_max = 0.5),\n",
    "  strong = list(beta_min = 0.5, beta_max = 1.5)\n",
    ")\n",
    "R <- 50 \n",
    "q_fdr <- 0.1       # Tq parameter for SLOPE\n",
    "adapt_lasso_gamma <- 1 # ALasso weights\n",
    "beta0 <- 0.5\n",
    "\n",
    "set.seed(538)\n",
    "\n",
    "## Generative model\n",
    "generate_data <- function(n, p, rho, k, signal_info, beta0) {\n",
    "\n",
    "  beta_true <- numeric(p)\n",
    "\n",
    "  if (k > 0) {\n",
    "    non_zero_indices <- sample(1:p, k)\n",
    "    magnitudes <- runif(k, min = signal_info$beta_min, max = signal_info$beta_max)\n",
    "    signs <- sample(c(-1, 1), k, replace = TRUE)\n",
    "    beta_true[non_zero_indices] <- magnitudes * signs\n",
    "  }\n",
    "  true_support <- which(beta_true != 0)\n",
    "\n",
    "  # Generate X\n",
    "  Sigma <- matrix(rho, nrow = p, ncol = p)\n",
    "  diag(Sigma) <- 1\n",
    "  X <- MASS::mvrnorm(n = n, mu = rep(0, p), Sigma = Sigma)\n",
    "  X <- scale(X)\n",
    "\n",
    "  # Count response \n",
    "  lambda <- exp(beta0 + X %*% beta_true)\n",
    "  # lambda <- pmin(lambda, some_large_value)\n",
    "  y <- rpois(n, lambda)\n",
    "\n",
    "  return(list(X = X, y = y, beta_true = beta_true, true_support = true_support, beta0 = beta0))\n",
    "}"
   ]
  }
 ],
 "metadata": {
  "language_info": {
   "name": "r"
  }
 },
 "nbformat": 4,
 "nbformat_minor": 2
}
